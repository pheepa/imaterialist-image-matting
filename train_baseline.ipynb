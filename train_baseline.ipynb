{
 "cells": [
  {
   "cell_type": "markdown",
   "metadata": {},
   "source": [
    "# This kernel is U-Net Baseline written by PyTorch\n",
    "In this kernel, there are many places that are simplified now.  \n",
    "So, you should fix these bad points.  \n",
    "\n",
    "[U-Net web site](https://lmb.informatik.uni-freiburg.de/people/ronneber/u-net/)  \n",
    "[U-Net paper](https://arxiv.org/abs/1505.04597)  \n",
    "\n",
    "I reference [this blog post](https://lp-tech.net/articles/hzfn7?page=2  ) in U-Net installation.  \n",
    "Thank you awesome this blog post.  \n",
    "\n",
    "This is [my EDA](https://www.kaggle.com/go1dfish/fgvc6-simple-eda).  \n",
    "If you don't know this competition rule and data, this EDA might help you.  "
   ]
  },
  {
   "cell_type": "markdown",
   "metadata": {},
   "source": [
    "# Import modules"
   ]
  },
  {
   "cell_type": "code",
   "execution_count": 1,
   "metadata": {
    "_cell_guid": "b1076dfc-b9ad-4769-8c92-a6c4dae69d19",
    "_uuid": "8f2839f25d086af736a60e9eeb907d3b93b6e0e5"
   },
   "outputs": [
    {
     "name": "stdout",
     "output_type": "stream",
     "text": [
      "['label_descriptions.json', 'train.csv', 'train', 'test', 'sample_submission.csv']\n"
     ]
    }
   ],
   "source": [
    "import numpy as np # linear algebra\n",
    "import pandas as pd # data processing, CSV file I/O (e.g. pd.read_csv)\n",
    "import os\n",
    "print(os.listdir(\"input\"))\n",
    "import cv2\n",
    "import matplotlib.pyplot as plt\n",
    "%matplotlib inline\n",
    "from tqdm import tqdm_notebook as tqdm\n",
    "\n",
    "import torch\n",
    "import torch.nn as nn\n",
    "from torch import optim\n",
    "import torch.nn.functional as F\n",
    "from itertools import groupby"
   ]
  },
  {
   "cell_type": "code",
   "execution_count": 2,
   "metadata": {},
   "outputs": [],
   "source": [
    "input_dir = \"input/\"\n",
    "train_img_dir = input_dir + \"train/\"\n",
    "test_img_dir = input_dir + \"test/\"\n",
    "\n",
    "WIDTH = 224\n",
    "HEIGHT = 224\n",
    "category_num = 1 + 1\n",
    "\n",
    "ratio = 8\n",
    "\n",
    "epoch_num = 4\n",
    "batch_size = 8\n",
    "\n",
    "device = \"cuda:0\"\n",
    "# device = torch.device('cpu')"
   ]
  },
  {
   "cell_type": "code",
   "execution_count": 3,
   "metadata": {},
   "outputs": [
    {
     "data": {
      "text/plain": [
       "45196"
      ]
     },
     "execution_count": 3,
     "metadata": {},
     "output_type": "execute_result"
    }
   ],
   "source": [
    "len(os.listdir(\"input/train/\"))"
   ]
  },
  {
   "cell_type": "code",
   "execution_count": 4,
   "metadata": {},
   "outputs": [
    {
     "data": {
      "text/plain": [
       "3194"
      ]
     },
     "execution_count": 4,
     "metadata": {},
     "output_type": "execute_result"
    }
   ],
   "source": [
    "len(os.listdir(\"input/test/\"))"
   ]
  },
  {
   "cell_type": "code",
   "execution_count": 5,
   "metadata": {},
   "outputs": [
    {
     "data": {
      "text/html": [
       "<div>\n",
       "<style scoped>\n",
       "    .dataframe tbody tr th:only-of-type {\n",
       "        vertical-align: middle;\n",
       "    }\n",
       "\n",
       "    .dataframe tbody tr th {\n",
       "        vertical-align: top;\n",
       "    }\n",
       "\n",
       "    .dataframe thead th {\n",
       "        text-align: right;\n",
       "    }\n",
       "</style>\n",
       "<table border=\"1\" class=\"dataframe\">\n",
       "  <thead>\n",
       "    <tr style=\"text-align: right;\">\n",
       "      <th></th>\n",
       "      <th>ImageId</th>\n",
       "      <th>EncodedPixels</th>\n",
       "      <th>Height</th>\n",
       "      <th>Width</th>\n",
       "      <th>ClassId</th>\n",
       "    </tr>\n",
       "  </thead>\n",
       "  <tbody>\n",
       "    <tr>\n",
       "      <th>0</th>\n",
       "      <td>00000663ed1ff0c4e0132b9b9ac53f6e.jpg</td>\n",
       "      <td>6068157 7 6073371 20 6078584 34 6083797 48 608...</td>\n",
       "      <td>5214</td>\n",
       "      <td>3676</td>\n",
       "      <td>6</td>\n",
       "    </tr>\n",
       "    <tr>\n",
       "      <th>1</th>\n",
       "      <td>00000663ed1ff0c4e0132b9b9ac53f6e.jpg</td>\n",
       "      <td>6323163 11 6328356 32 6333549 53 6338742 75 63...</td>\n",
       "      <td>5214</td>\n",
       "      <td>3676</td>\n",
       "      <td>0</td>\n",
       "    </tr>\n",
       "    <tr>\n",
       "      <th>2</th>\n",
       "      <td>00000663ed1ff0c4e0132b9b9ac53f6e.jpg</td>\n",
       "      <td>8521389 10 8526585 30 8531789 42 8537002 46 85...</td>\n",
       "      <td>5214</td>\n",
       "      <td>3676</td>\n",
       "      <td>28</td>\n",
       "    </tr>\n",
       "    <tr>\n",
       "      <th>3</th>\n",
       "      <td>00000663ed1ff0c4e0132b9b9ac53f6e.jpg</td>\n",
       "      <td>12903854 2 12909064 7 12914275 10 12919485 15 ...</td>\n",
       "      <td>5214</td>\n",
       "      <td>3676</td>\n",
       "      <td>31</td>\n",
       "    </tr>\n",
       "    <tr>\n",
       "      <th>4</th>\n",
       "      <td>00000663ed1ff0c4e0132b9b9ac53f6e.jpg</td>\n",
       "      <td>10837337 5 10842542 14 10847746 24 10852951 33...</td>\n",
       "      <td>5214</td>\n",
       "      <td>3676</td>\n",
       "      <td>32</td>\n",
       "    </tr>\n",
       "  </tbody>\n",
       "</table>\n",
       "</div>"
      ],
      "text/plain": [
       "                                ImageId  \\\n",
       "0  00000663ed1ff0c4e0132b9b9ac53f6e.jpg   \n",
       "1  00000663ed1ff0c4e0132b9b9ac53f6e.jpg   \n",
       "2  00000663ed1ff0c4e0132b9b9ac53f6e.jpg   \n",
       "3  00000663ed1ff0c4e0132b9b9ac53f6e.jpg   \n",
       "4  00000663ed1ff0c4e0132b9b9ac53f6e.jpg   \n",
       "\n",
       "                                       EncodedPixels  Height  Width ClassId  \n",
       "0  6068157 7 6073371 20 6078584 34 6083797 48 608...    5214   3676       6  \n",
       "1  6323163 11 6328356 32 6333549 53 6338742 75 63...    5214   3676       0  \n",
       "2  8521389 10 8526585 30 8531789 42 8537002 46 85...    5214   3676      28  \n",
       "3  12903854 2 12909064 7 12914275 10 12919485 15 ...    5214   3676      31  \n",
       "4  10837337 5 10842542 14 10847746 24 10852951 33...    5214   3676      32  "
      ]
     },
     "execution_count": 5,
     "metadata": {},
     "output_type": "execute_result"
    }
   ],
   "source": [
    "train_df = pd.read_csv(input_dir + \"train.csv\")\n",
    "train_df.head()"
   ]
  },
  {
   "cell_type": "code",
   "execution_count": 6,
   "metadata": {},
   "outputs": [],
   "source": [
    "# train_df['ClassId'][train_df['ClassId'] == 46] = 0\n",
    "# train_df['ClassId'][train_df['ClassId'] != 46] = 1"
   ]
  },
  {
   "cell_type": "markdown",
   "metadata": {
    "_cell_guid": "79c7e3d0-c299-4dcb-8224-4455121ee9b0",
    "_uuid": "d629ff2d2480ee46fbb7e2d37f6b5fab8052498a"
   },
   "source": [
    "# Define utils\n",
    "For suniqueicity, It focus only category"
   ]
  },
  {
   "cell_type": "code",
   "execution_count": 7,
   "metadata": {},
   "outputs": [],
   "source": [
    "def make_onehot_vec(x):\n",
    "    vec = np.zeros(category_num)\n",
    "    vec[x] = 1\n",
    "    return vec"
   ]
  },
  {
   "cell_type": "code",
   "execution_count": 8,
   "metadata": {},
   "outputs": [],
   "source": [
    "def make_mask_img(segment_df):\n",
    "    seg_width = segment_df.at[0, \"Width\"]\n",
    "    seg_height = segment_df.at[0, \"Height\"]\n",
    "    seg_img = np.full(seg_width*seg_height, category_num-1, dtype=np.int32)\n",
    "    for encoded_pixels, class_id in zip(segment_df[\"EncodedPixels\"].values, segment_df[\"ClassId\"].values):\n",
    "        pixel_list = list(map(int, encoded_pixels.split(\" \")))\n",
    "        for i in range(0, len(pixel_list), 2):\n",
    "            start_index = pixel_list[i] - 1\n",
    "            index_len = pixel_list[i+1] - 1\n",
    "            seg_img[start_index:start_index+index_len] = int(class_id.split(\"_\")[0])\n",
    "    seg_img = seg_img.reshape((seg_height, seg_width), order='F')\n",
    "    seg_img = cv2.resize(seg_img, (WIDTH, HEIGHT), interpolation=cv2.INTER_NEAREST)\n",
    "    \"\"\"\n",
    "    seg_img_onehot = np.zeros((HEIGHT, WIDTH, category_num), dtype=np.int32)\n",
    "    #seg_img_onehot = np.zeros((seg_height//ratio, seg_width//ratio, category_num), dtype=np.int32)\n",
    "    # OPTIMIZE: slow\n",
    "    for ind in range(HEIGHT):\n",
    "        for col in range(WIDTH):\n",
    "            seg_img_onehot[ind, col] = make_onehot_vec(seg_img[ind, col])\n",
    "    \"\"\"\n",
    "    return seg_img"
   ]
  },
  {
   "cell_type": "code",
   "execution_count": 9,
   "metadata": {},
   "outputs": [],
   "source": [
    "def train_generator(df, batch_size):\n",
    "    img_ind_num = df.groupby(\"ImageId\")[\"ClassId\"].count()\n",
    "    index = df.index.values[0]\n",
    "    trn_images = []\n",
    "    seg_images = []\n",
    "    for i, (img_name, ind_num) in enumerate(img_ind_num.items()):\n",
    "        img = cv2.imread(train_img_dir + img_name)\n",
    "        img = cv2.cvtColor(img, cv2.COLOR_RGB2BGR)\n",
    "        img = cv2.resize(img, (WIDTH, HEIGHT), interpolation=cv2.INTER_AREA)\n",
    "        segment_df = (df.loc[index:index+ind_num-1, :]).reset_index(drop=True)\n",
    "        index += ind_num\n",
    "        if segment_df[\"ImageId\"].nunique() != 1:\n",
    "            raise Exception(\"Index Range Error\")\n",
    "        seg_img = make_mask_img(segment_df)\n",
    "        \n",
    "        # HWC -> CHW\n",
    "        img = img.transpose((2, 0, 1))\n",
    "        #seg_img = seg_img.transpose((2, 0, 1))\n",
    "        \n",
    "        trn_images.append(img)\n",
    "        seg_images.append(seg_img)\n",
    "        if((i+1) % batch_size == 0):\n",
    "            yield np.array(trn_images, dtype=np.float32) / 255, np.array(seg_images, dtype=np.int32)\n",
    "            trn_images = []\n",
    "            seg_images = []\n",
    "    if(len(trn_images) != 0):\n",
    "        yield np.array(trn_images, dtype=np.float32) / 255, np.array(seg_images, dtype=np.int32)"
   ]
  },
  {
   "cell_type": "code",
   "execution_count": 10,
   "metadata": {},
   "outputs": [],
   "source": [
    "def test_generator(df):\n",
    "    img_names = df[\"ImageId\"].values\n",
    "    for img_name in img_names:\n",
    "        img = cv2.imread(test_img_dir + img_name)\n",
    "        img = cv2.resize(img, (WIDTH, HEIGHT), interpolation=cv2.INTER_AREA)\n",
    "        # HWC -> CHW\n",
    "        img = img.transpose((2, 0, 1))\n",
    "        yield img_name, np.asarray([img], dtype=np.float32) / 255"
   ]
  },
  {
   "cell_type": "code",
   "execution_count": 11,
   "metadata": {},
   "outputs": [],
   "source": [
    "def encode(input_string):\n",
    "    return [(len(list(g)), k) for k,g in groupby(input_string)]\n",
    "\n",
    "def run_length(label_vec):\n",
    "    encode_list = encode(label_vec)\n",
    "    index = 1\n",
    "    class_dict = {}\n",
    "    for i in encode_list:\n",
    "        if i[1] != category_num-1:\n",
    "            if i[1] not in class_dict.keys():\n",
    "                class_dict[i[1]] = []\n",
    "            class_dict[i[1]] = class_dict[i[1]] + [index, i[0]]\n",
    "        index += i[0]\n",
    "    return class_dict"
   ]
  },
  {
   "cell_type": "markdown",
   "metadata": {},
   "source": [
    "# Define Network"
   ]
  },
  {
   "cell_type": "code",
   "execution_count": 12,
   "metadata": {},
   "outputs": [],
   "source": [
    "class double_conv(nn.Module):\n",
    "    '''(conv => BN => ReLU) * 2'''\n",
    "    def __init__(self, in_ch, out_ch):\n",
    "        super(double_conv, self).__init__()\n",
    "        self.conv = nn.Sequential(\n",
    "            nn.Conv2d(in_ch, out_ch, 3, padding=1),\n",
    "            nn.BatchNorm2d(out_ch),\n",
    "            nn.ReLU(inplace=True),\n",
    "            nn.Conv2d(out_ch, out_ch, 3, padding=1),\n",
    "            nn.BatchNorm2d(out_ch),\n",
    "            nn.ReLU(inplace=True)\n",
    "        )\n",
    "\n",
    "    def forward(self, x):\n",
    "        x = self.conv(x)\n",
    "        return x\n",
    "\n",
    "\n",
    "class inconv(nn.Module):\n",
    "    def __init__(self, in_ch, out_ch):\n",
    "        super(inconv, self).__init__()\n",
    "        self.conv = double_conv(in_ch, out_ch)\n",
    "\n",
    "    def forward(self, x):\n",
    "        x = self.conv(x)\n",
    "        return x\n",
    "\n",
    "\n",
    "class down(nn.Module):\n",
    "    def __init__(self, in_ch, out_ch):\n",
    "        super(down, self).__init__()\n",
    "        self.mpconv = nn.Sequential(\n",
    "            nn.MaxPool2d(2),\n",
    "            double_conv(in_ch, out_ch)\n",
    "        )\n",
    "\n",
    "    def forward(self, x):\n",
    "        x = self.mpconv(x)\n",
    "        return x\n",
    "\n",
    "\n",
    "class up(nn.Module):\n",
    "    def __init__(self, in_ch, out_ch, bilinear=True):\n",
    "        super(up, self).__init__()\n",
    "\n",
    "        #  would be a nice idea if the upsampling could be learned too,\n",
    "        #  but my machine do not have enough memory to handle all those weights\n",
    "        if bilinear:\n",
    "            self.up = nn.Upsample(scale_factor=2, mode='bilinear', align_corners=True)\n",
    "        else:\n",
    "            self.up = nn.ConvTranspose2d(in_ch//2, in_ch//2, 2, stride=2)\n",
    "\n",
    "        self.conv = double_conv(in_ch, out_ch)\n",
    "\n",
    "    def forward(self, x1, x2):\n",
    "        x1 = self.up(x1)\n",
    "        diffX = x1.size()[2] - x2.size()[2]\n",
    "        diffY = x1.size()[3] - x2.size()[3]\n",
    "        x2 = F.pad(x2, (diffX // 2, int(diffX / 2),\n",
    "                        diffY // 2, int(diffY / 2)))\n",
    "        x = torch.cat([x2, x1], dim=1)\n",
    "        x = self.conv(x)\n",
    "        return x\n",
    "\n",
    "\n",
    "class outconv(nn.Module):\n",
    "    def __init__(self, in_ch, out_ch):\n",
    "        super(outconv, self).__init__()\n",
    "        self.conv = nn.Conv2d(in_ch, out_ch, 1)\n",
    "\n",
    "    def forward(self, x):\n",
    "        x = self.conv(x)\n",
    "        return x\n",
    "\n",
    "    \n",
    "class UNet(nn.Module):\n",
    "    def __init__(self, n_channels, n_classes):\n",
    "        super(UNet, self).__init__()\n",
    "        self.inc = inconv(n_channels, 64)\n",
    "        self.down1 = down(64, 128)\n",
    "        self.down2 = down(128, 256)\n",
    "        self.down3 = down(256, 512)\n",
    "        self.down4 = down(512, 512)\n",
    "        self.up1 = up(1024, 256)\n",
    "        self.up2 = up(512, 128)\n",
    "        self.up3 = up(256, 64)\n",
    "        self.up4 = up(128, 64)\n",
    "        self.outc = outconv(64, n_classes)\n",
    "\n",
    "    def forward(self, x):\n",
    "        x1 = self.inc(x)\n",
    "        x2 = self.down1(x1)\n",
    "        x3 = self.down2(x2)\n",
    "        x4 = self.down3(x3)\n",
    "        x5 = self.down4(x4)\n",
    "        x = self.up1(x5, x4)\n",
    "        x = self.up2(x, x3)\n",
    "        x = self.up3(x, x2)\n",
    "        x = self.up4(x, x1)\n",
    "        x = self.outc(x)\n",
    "        return x"
   ]
  },
  {
   "cell_type": "markdown",
   "metadata": {},
   "source": [
    "# Training"
   ]
  },
  {
   "cell_type": "code",
   "execution_count": 13,
   "metadata": {},
   "outputs": [
    {
     "data": {
      "text/plain": [
       "(331213, 5)"
      ]
     },
     "execution_count": 13,
     "metadata": {},
     "output_type": "execute_result"
    }
   ],
   "source": [
    "train_df.shape"
   ]
  },
  {
   "cell_type": "code",
   "execution_count": 14,
   "metadata": {},
   "outputs": [
    {
     "data": {
      "text/plain": [
       "83353"
      ]
     },
     "execution_count": 14,
     "metadata": {},
     "output_type": "execute_result"
    }
   ],
   "source": [
    "333415 // 4"
   ]
  },
  {
   "cell_type": "code",
   "execution_count": 15,
   "metadata": {},
   "outputs": [
    {
     "data": {
      "text/html": [
       "<div>\n",
       "<style scoped>\n",
       "    .dataframe tbody tr th:only-of-type {\n",
       "        vertical-align: middle;\n",
       "    }\n",
       "\n",
       "    .dataframe tbody tr th {\n",
       "        vertical-align: top;\n",
       "    }\n",
       "\n",
       "    .dataframe thead th {\n",
       "        text-align: right;\n",
       "    }\n",
       "</style>\n",
       "<table border=\"1\" class=\"dataframe\">\n",
       "  <thead>\n",
       "    <tr style=\"text-align: right;\">\n",
       "      <th></th>\n",
       "      <th>ImageId</th>\n",
       "      <th>EncodedPixels</th>\n",
       "      <th>Height</th>\n",
       "      <th>Width</th>\n",
       "      <th>ClassId</th>\n",
       "    </tr>\n",
       "  </thead>\n",
       "  <tbody>\n",
       "    <tr>\n",
       "      <th>83348</th>\n",
       "      <td>404b0d1b58a1af0841e1e46f975118eb.jpg</td>\n",
       "      <td>337743 2 338739 6 339735 10 340732 13 341728 1...</td>\n",
       "      <td>1000</td>\n",
       "      <td>667</td>\n",
       "      <td>22</td>\n",
       "    </tr>\n",
       "    <tr>\n",
       "      <th>83349</th>\n",
       "      <td>404b0d1b58a1af0841e1e46f975118eb.jpg</td>\n",
       "      <td>235561 2 236558 5 237554 9 238551 13 239549 15...</td>\n",
       "      <td>1000</td>\n",
       "      <td>667</td>\n",
       "      <td>8</td>\n",
       "    </tr>\n",
       "    <tr>\n",
       "      <th>83350</th>\n",
       "      <td>404b0d1b58a1af0841e1e46f975118eb.jpg</td>\n",
       "      <td>219425 10 220411 30 221398 50 222385 68 223374...</td>\n",
       "      <td>1000</td>\n",
       "      <td>667</td>\n",
       "      <td>0</td>\n",
       "    </tr>\n",
       "    <tr>\n",
       "      <th>83351</th>\n",
       "      <td>404b0d1b58a1af0841e1e46f975118eb.jpg</td>\n",
       "      <td>298226 2 299225 7 300225 11 301225 14 302224 1...</td>\n",
       "      <td>1000</td>\n",
       "      <td>667</td>\n",
       "      <td>28</td>\n",
       "    </tr>\n",
       "    <tr>\n",
       "      <th>83352</th>\n",
       "      <td>404b0d1b58a1af0841e1e46f975118eb.jpg</td>\n",
       "      <td>379364 12 380342 1 380352 27 381340 4 381351 3...</td>\n",
       "      <td>1000</td>\n",
       "      <td>667</td>\n",
       "      <td>31</td>\n",
       "    </tr>\n",
       "    <tr>\n",
       "      <th>83353</th>\n",
       "      <td>404b0d1b58a1af0841e1e46f975118eb.jpg</td>\n",
       "      <td>219425 10 220411 30 221398 50 222385 68 223374...</td>\n",
       "      <td>1000</td>\n",
       "      <td>667</td>\n",
       "      <td>31</td>\n",
       "    </tr>\n",
       "  </tbody>\n",
       "</table>\n",
       "</div>"
      ],
      "text/plain": [
       "                                    ImageId  \\\n",
       "83348  404b0d1b58a1af0841e1e46f975118eb.jpg   \n",
       "83349  404b0d1b58a1af0841e1e46f975118eb.jpg   \n",
       "83350  404b0d1b58a1af0841e1e46f975118eb.jpg   \n",
       "83351  404b0d1b58a1af0841e1e46f975118eb.jpg   \n",
       "83352  404b0d1b58a1af0841e1e46f975118eb.jpg   \n",
       "83353  404b0d1b58a1af0841e1e46f975118eb.jpg   \n",
       "\n",
       "                                           EncodedPixels  Height  Width  \\\n",
       "83348  337743 2 338739 6 339735 10 340732 13 341728 1...    1000    667   \n",
       "83349  235561 2 236558 5 237554 9 238551 13 239549 15...    1000    667   \n",
       "83350  219425 10 220411 30 221398 50 222385 68 223374...    1000    667   \n",
       "83351  298226 2 299225 7 300225 11 301225 14 302224 1...    1000    667   \n",
       "83352  379364 12 380342 1 380352 27 381340 4 381351 3...    1000    667   \n",
       "83353  219425 10 220411 30 221398 50 222385 68 223374...    1000    667   \n",
       "\n",
       "      ClassId  \n",
       "83348      22  \n",
       "83349       8  \n",
       "83350       0  \n",
       "83351      28  \n",
       "83352      31  \n",
       "83353      31  "
      ]
     },
     "execution_count": 15,
     "metadata": {},
     "output_type": "execute_result"
    }
   ],
   "source": [
    "train_df.iloc[83348:83354, :]"
   ]
  },
  {
   "cell_type": "code",
   "execution_count": 16,
   "metadata": {},
   "outputs": [
    {
     "data": {
      "text/html": [
       "<div>\n",
       "<style scoped>\n",
       "    .dataframe tbody tr th:only-of-type {\n",
       "        vertical-align: middle;\n",
       "    }\n",
       "\n",
       "    .dataframe tbody tr th {\n",
       "        vertical-align: top;\n",
       "    }\n",
       "\n",
       "    .dataframe thead th {\n",
       "        text-align: right;\n",
       "    }\n",
       "</style>\n",
       "<table border=\"1\" class=\"dataframe\">\n",
       "  <thead>\n",
       "    <tr style=\"text-align: right;\">\n",
       "      <th></th>\n",
       "      <th>ImageId</th>\n",
       "      <th>EncodedPixels</th>\n",
       "      <th>Height</th>\n",
       "      <th>Width</th>\n",
       "      <th>ClassId</th>\n",
       "    </tr>\n",
       "  </thead>\n",
       "  <tbody>\n",
       "    <tr>\n",
       "      <th>73350</th>\n",
       "      <td>3892703cf1e7f6a3cc1892fcb3daedae.jpg</td>\n",
       "      <td>85434 2 88642 6 91851 9 95059 14 98268 17 1014...</td>\n",
       "      <td>3211</td>\n",
       "      <td>2141</td>\n",
       "      <td>31</td>\n",
       "    </tr>\n",
       "    <tr>\n",
       "      <th>73351</th>\n",
       "      <td>3892703cf1e7f6a3cc1892fcb3daedae.jpg</td>\n",
       "      <td>82220 2 85428 6 88637 9 91846 13 95055 16 9826...</td>\n",
       "      <td>3211</td>\n",
       "      <td>2141</td>\n",
       "      <td>1</td>\n",
       "    </tr>\n",
       "    <tr>\n",
       "      <th>73352</th>\n",
       "      <td>3893868714043964534a6cdbaf1f0d75.jpg</td>\n",
       "      <td>7536415 56 7542028 60 7547642 62 7553255 65 75...</td>\n",
       "      <td>5616</td>\n",
       "      <td>3744</td>\n",
       "      <td>23</td>\n",
       "    </tr>\n",
       "    <tr>\n",
       "      <th>73353</th>\n",
       "      <td>3893868714043964534a6cdbaf1f0d75.jpg</td>\n",
       "      <td>12534531 11 12540144 33 12545757 55 12551369 6...</td>\n",
       "      <td>5616</td>\n",
       "      <td>3744</td>\n",
       "      <td>23</td>\n",
       "    </tr>\n",
       "  </tbody>\n",
       "</table>\n",
       "</div>"
      ],
      "text/plain": [
       "                                    ImageId  \\\n",
       "73350  3892703cf1e7f6a3cc1892fcb3daedae.jpg   \n",
       "73351  3892703cf1e7f6a3cc1892fcb3daedae.jpg   \n",
       "73352  3893868714043964534a6cdbaf1f0d75.jpg   \n",
       "73353  3893868714043964534a6cdbaf1f0d75.jpg   \n",
       "\n",
       "                                           EncodedPixels  Height  Width  \\\n",
       "73350  85434 2 88642 6 91851 9 95059 14 98268 17 1014...    3211   2141   \n",
       "73351  82220 2 85428 6 88637 9 91846 13 95055 16 9826...    3211   2141   \n",
       "73352  7536415 56 7542028 60 7547642 62 7553255 65 75...    5616   3744   \n",
       "73353  12534531 11 12540144 33 12545757 55 12551369 6...    5616   3744   \n",
       "\n",
       "      ClassId  \n",
       "73350      31  \n",
       "73351       1  \n",
       "73352      23  \n",
       "73353      23  "
      ]
     },
     "execution_count": 16,
     "metadata": {},
     "output_type": "execute_result"
    }
   ],
   "source": [
    "train_df.iloc[73350:73354, :]"
   ]
  },
  {
   "cell_type": "markdown",
   "metadata": {},
   "source": [
    "For simplicity, use about 25% data.  "
   ]
  },
  {
   "cell_type": "code",
   "execution_count": 17,
   "metadata": {},
   "outputs": [],
   "source": [
    "net = UNet(n_channels=3, n_classes=category_num).to(device)\n",
    "\n",
    "# optimizer = optim.SGD(\n",
    "#     net.parameters(),\n",
    "#     lr=0.01,\n",
    "#     momentum=0.9,\n",
    "#     weight_decay=0.0005\n",
    "# )\n",
    "optimizer = optim.Adam(net.parameters(),\n",
    "                       lr=0.01\n",
    "                      )\n",
    "\n",
    "criterion = nn.CrossEntropyLoss()"
   ]
  },
  {
   "cell_type": "code",
   "execution_count": null,
   "metadata": {},
   "outputs": [],
   "source": [
    "net.load_state_dict(torch.load('w.pth'))"
   ]
  },
  {
   "cell_type": "code",
   "execution_count": 99,
   "metadata": {},
   "outputs": [
    {
     "name": "stderr",
     "output_type": "stream",
     "text": [
      "<ipython-input-99-3401c2a0f8ae>:9: TqdmDeprecationWarning: This function will be removed in tqdm==5.0.0\n",
      "Please use `tqdm.notebook.tqdm` instead of `tqdm.tqdm_notebook`\n",
      "  for iteration, (X_trn, Y_trn) in enumerate(tqdm(train_generator(train_df.iloc[:val_sta, :], batch_size))):\n"
     ]
    },
    {
     "data": {
      "application/vnd.jupyter.widget-view+json": {
       "model_id": "c859278029a3466c9fa23f09ff1ef390",
       "version_major": 2,
       "version_minor": 0
      },
      "text/plain": [
       "HBox(children=(FloatProgress(value=1.0, bar_style='info', layout=Layout(width='20px'), max=1.0), HTML(value=''…"
      ]
     },
     "metadata": {},
     "output_type": "display_data"
    },
    {
     "name": "stdout",
     "output_type": "stream",
     "text": [
      "train loss in 01epoch  /    0iter:    0.48244777\n",
      "train loss in 01epoch  /  100iter:    0.4188875 \n",
      "train loss in 01epoch  /  200iter:    0.38496849\n",
      "train loss in 01epoch  /  300iter:    0.36789627\n",
      "train loss in 01epoch  /  400iter:    0.35921227\n",
      "train loss in 01epoch  /  500iter:    0.35193099\n",
      "train loss in 01epoch  /  600iter:    0.34690535\n",
      "train loss in 01epoch  /  700iter:    0.34382413\n",
      "train loss in 01epoch  /  800iter:    0.33933571\n",
      "train loss in 01epoch  /  900iter:    0.33441083\n",
      "train loss in 01epoch  / 1000iter:    0.33221865\n",
      "train loss in 01epoch  / 1100iter:    0.32820888\n",
      "train loss in 01epoch  / 1200iter:    0.32407237\n",
      "\n",
      "train 1epoch loss(1251iteration):    0.32274931\n",
      "valid 1epoch loss(1251iteration):           0.0\n"
     ]
    },
    {
     "data": {
      "application/vnd.jupyter.widget-view+json": {
       "model_id": "86745128f3a84127873980f11af9434f",
       "version_major": 2,
       "version_minor": 0
      },
      "text/plain": [
       "HBox(children=(FloatProgress(value=1.0, bar_style='info', layout=Layout(width='20px'), max=1.0), HTML(value=''…"
      ]
     },
     "metadata": {},
     "output_type": "display_data"
    },
    {
     "name": "stdout",
     "output_type": "stream",
     "text": [
      "train loss in 02epoch  /    0iter:    0.39506108\n",
      "train loss in 02epoch  /  100iter:    0.27711976\n",
      "train loss in 02epoch  /  200iter:    0.27868444\n",
      "train loss in 02epoch  /  300iter:    0.27533482\n",
      "train loss in 02epoch  /  400iter:    0.27379406\n",
      "train loss in 02epoch  /  500iter:    0.27165127\n",
      "train loss in 02epoch  /  600iter:    0.27052967\n",
      "train loss in 02epoch  /  700iter:    0.27062766\n",
      "train loss in 02epoch  /  800iter:    0.26884806\n",
      "train loss in 02epoch  /  900iter:    0.26586354\n",
      "train loss in 02epoch  / 1000iter:    0.26555444\n",
      "train loss in 02epoch  / 1100iter:    0.2635777 \n",
      "train loss in 02epoch  / 1200iter:    0.26072175\n",
      "\n",
      "train 2epoch loss(1251iteration):    0.26004256\n",
      "valid 2epoch loss(1251iteration):           0.0\n"
     ]
    },
    {
     "data": {
      "application/vnd.jupyter.widget-view+json": {
       "model_id": "559a94722c2b46cf9d1096386dcb1a48",
       "version_major": 2,
       "version_minor": 0
      },
      "text/plain": [
       "HBox(children=(FloatProgress(value=1.0, bar_style='info', layout=Layout(width='20px'), max=1.0), HTML(value=''…"
      ]
     },
     "metadata": {},
     "output_type": "display_data"
    },
    {
     "name": "stdout",
     "output_type": "stream",
     "text": [
      "train loss in 03epoch  /    0iter:    0.33171886\n",
      "train loss in 03epoch  /  100iter:    0.23228856\n",
      "train loss in 03epoch  /  200iter:    0.23762929\n",
      "train loss in 03epoch  /  300iter:    0.23545219\n",
      "train loss in 03epoch  /  400iter:    0.23394902\n",
      "train loss in 03epoch  /  500iter:    0.23240549\n",
      "train loss in 03epoch  /  600iter:    0.23156812\n",
      "train loss in 03epoch  /  700iter:    0.23335491\n",
      "train loss in 03epoch  /  800iter:    0.23234318\n",
      "train loss in 03epoch  /  900iter:    0.23014837\n",
      "train loss in 03epoch  / 1000iter:    0.22973617\n",
      "train loss in 03epoch  / 1100iter:    0.22868745\n",
      "train loss in 03epoch  / 1200iter:    0.2265994 \n",
      "\n",
      "train 3epoch loss(1251iteration):    0.22628324\n",
      "valid 3epoch loss(1251iteration):           0.0\n"
     ]
    },
    {
     "data": {
      "application/vnd.jupyter.widget-view+json": {
       "model_id": "377b4aedb4144ab0ac86b448679835b9",
       "version_major": 2,
       "version_minor": 0
      },
      "text/plain": [
       "HBox(children=(FloatProgress(value=1.0, bar_style='info', layout=Layout(width='20px'), max=1.0), HTML(value=''…"
      ]
     },
     "metadata": {},
     "output_type": "display_data"
    },
    {
     "name": "stdout",
     "output_type": "stream",
     "text": [
      "train loss in 04epoch  /    0iter:    0.28241542\n",
      "train loss in 04epoch  /  100iter:    0.20642415\n",
      "train loss in 04epoch  /  200iter:    0.21276686\n",
      "train loss in 04epoch  /  300iter:    0.21101318\n",
      "train loss in 04epoch  /  400iter:    0.2088131 \n",
      "train loss in 04epoch  /  500iter:    0.20805539\n",
      "train loss in 04epoch  /  600iter:    0.2067694 \n",
      "train loss in 04epoch  /  700iter:    0.20816159\n",
      "train loss in 04epoch  /  800iter:    0.20830049\n",
      "train loss in 04epoch  /  900iter:    0.20660592\n",
      "train loss in 04epoch  / 1000iter:    0.20627322\n",
      "train loss in 04epoch  / 1100iter:    0.20572647\n",
      "train loss in 04epoch  / 1200iter:    0.20403844\n",
      "\n",
      "train 4epoch loss(1251iteration):    0.20390807\n",
      "valid 4epoch loss(1251iteration):           0.0\n"
     ]
    }
   ],
   "source": [
    "val_sta = 73352\n",
    "val_end = 83351\n",
    "train_loss = []\n",
    "valid_loss = []\n",
    "for epoch in range(epoch_num):\n",
    "    epoch_trn_loss = 0\n",
    "    train_len = 0\n",
    "    net.train()\n",
    "    for iteration, (X_trn, Y_trn) in enumerate(tqdm(train_generator(train_df.iloc[:val_sta, :], batch_size))):\n",
    "        Y_trn[Y_trn == 1] = 0\n",
    "        Y_trn[Y_trn != 0] = 1\n",
    "        X = torch.tensor(X_trn, dtype=torch.float32).to(device)\n",
    "        Y = torch.tensor(Y_trn, dtype=torch.long).to(device)\n",
    "        train_len += len(X)\n",
    "        \n",
    "        #Y_flat = Y.view(-1)\n",
    "        mask_pred = net(X)\n",
    "        #mask_prob = torch.softmax(mask_pred, dim=1)\n",
    "        #mask_prob_flat = mask_prob.view(-1)\n",
    "        loss = criterion(mask_pred, Y)\n",
    "        optimizer.zero_grad()\n",
    "        loss.backward()\n",
    "        optimizer.step()\n",
    "        epoch_trn_loss += loss.item()\n",
    "        \n",
    "        if iteration % 100 == 0:\n",
    "            print(\"train loss in {:0>2}epoch  /{:>5}iter:    {:<10.8}\".format(epoch+1, iteration, epoch_trn_loss/(iteration+1)))\n",
    "        \n",
    "    train_loss.append(epoch_trn_loss/(iteration+1))\n",
    "    print(\"train {}epoch loss({}iteration):    {:10.8}\".format(epoch+1, iteration, train_loss[-1]))\n",
    "    \n",
    "    epoch_val_loss = 0\n",
    "    val_len = 0\n",
    "    net.eval()\n",
    "#     for iteration, (X_val, Y_val) in enumerate(tqdm(train_generator(train_df.iloc[val_sta:val_end, :], batch_size))):\n",
    "#         Y_val[Y_val == 1] = 0\n",
    "#         Y_val[Y_val != 0] = 1\n",
    "#         X = torch.tensor(X_val, dtype=torch.float32).to(device)\n",
    "#         Y = torch.tensor(Y_val, dtype=torch.long).to(device)\n",
    "#         val_len += len(X)\n",
    "        \n",
    "#         #Y_flat = Y.view(-1)\n",
    "        \n",
    "#         mask_pred = net(X)\n",
    "#         #mask_prob = torch.softmax(mask_pred, dim=1)\n",
    "#         #mask_prob_flat = mask_prob.view(-1)\n",
    "#         loss = criterion(mask_pred, Y)\n",
    "#         epoch_val_loss += loss.item()\n",
    "        \n",
    "#         if iteration % 100 == 0:\n",
    "#             print(\"valid loss in {:0>2}epoch  /{:>5}iter:    {:<10.8}\".format(epoch+1, iteration, epoch_val_loss/(iteration+1)))\n",
    "        \n",
    "    valid_loss.append(epoch_val_loss/(iteration+1))\n",
    "    print(\"valid {}epoch loss({}iteration):    {:10.8}\".format(epoch+1, iteration, valid_loss[-1]))"
   ]
  },
  {
   "cell_type": "code",
   "execution_count": null,
   "metadata": {},
   "outputs": [],
   "source": [
    "#plt.plot(list(range(epoch_num)), train_loss, color='green')\n",
    "#plt.plot(list(range(epoch_num)), valid_loss, color='blue')"
   ]
  },
  {
   "cell_type": "code",
   "execution_count": 100,
   "metadata": {},
   "outputs": [],
   "source": [
    "torch.save(net.state_dict(), 'w.pth')"
   ]
  },
  {
   "cell_type": "code",
   "execution_count": null,
   "metadata": {},
   "outputs": [],
   "source": [
    "!nvidea-smi"
   ]
  },
  {
   "cell_type": "markdown",
   "metadata": {},
   "source": [
    "# Train with dice loss"
   ]
  },
  {
   "cell_type": "code",
   "execution_count": 17,
   "metadata": {},
   "outputs": [],
   "source": [
    "SMOOTH = 1e-6\n",
    "\n",
    "def iou_pytorch(outputs: torch.Tensor, labels: torch.Tensor):\n",
    "    # You can comment out this line if you are passing tensors of equal shape\n",
    "    # But if you are passing output from UNet or something it will most probably\n",
    "    # be with the BATCH x H x W shape\n",
    "    \n",
    "    intersection = (outputs & labels).float().sum((1, 2))  # Will be zero if Truth=0 or Prediction=0\n",
    "    union = (outputs | labels).float().sum((1, 2))         # Will be zzero if both are 0\n",
    "    iou = (intersection) / (union + SMOOTH)  # We smooth our devision to avoid 0/0\n",
    "    print(iou)\n",
    "    thresholded = torch.clamp(20 * (iou - 0.5), 0, 10).ceil() / 10  # This is equal to comparing with thresolds\n",
    "    \n",
    "    return thresholded  # Or thresholded.mean() if you are interested in average across the batch"
   ]
  },
  {
   "cell_type": "code",
   "execution_count": 18,
   "metadata": {},
   "outputs": [],
   "source": [
    "class DiceLoss(nn.Module):\n",
    "    def __init__(self, weight=None, size_average=True):\n",
    "        super(DiceLoss, self).__init__()\n",
    "\n",
    "    def forward(self, inputs, targets, smooth=1):\n",
    "        \n",
    "#         #comment out if your model contains a sigmoid or equivalent activation layer\n",
    "#         inputs = torch.sigmoid(inputs)       \n",
    "        \n",
    "        #flatten label and prediction tensors\n",
    "        inputs = inputs.view(-1)\n",
    "        targets = targets.view(-1)\n",
    "        \n",
    "        intersection = (inputs * targets).sum()                            \n",
    "        dice = (2.*intersection + smooth)/(inputs.sum() + targets.sum() + smooth)  \n",
    "        \n",
    "        return 1 - dice"
   ]
  },
  {
   "cell_type": "code",
   "execution_count": 46,
   "metadata": {},
   "outputs": [],
   "source": [
    "net = UNet(n_channels=3, n_classes=1).to(device)\n",
    "\n",
    "# optimizer = optim.SGD(\n",
    "#     net.parameters(),\n",
    "#     lr=0.01,\n",
    "#     momentum=0.9,\n",
    "#     weight_decay=0.0005\n",
    "# )\n",
    "optimizer = optim.Adam(net.parameters())\n",
    "criterion = DiceLoss()"
   ]
  },
  {
   "cell_type": "code",
   "execution_count": 47,
   "metadata": {},
   "outputs": [],
   "source": [
    "val_sta = 73352\n",
    "val_end = 83351"
   ]
  },
  {
   "cell_type": "code",
   "execution_count": 48,
   "metadata": {},
   "outputs": [
    {
     "name": "stderr",
     "output_type": "stream",
     "text": [
      "<ipython-input-48-38188dd63974>:7: TqdmDeprecationWarning: This function will be removed in tqdm==5.0.0\n",
      "Please use `tqdm.notebook.tqdm` instead of `tqdm.tqdm_notebook`\n",
      "  for iteration, (X_trn, Y_trn) in enumerate(tqdm(train_generator(train_df.iloc[:val_sta, :], batch_size))):\n"
     ]
    },
    {
     "data": {
      "application/vnd.jupyter.widget-view+json": {
       "model_id": "898a42497db143af87b8ab575bb6d88d",
       "version_major": 2,
       "version_minor": 0
      },
      "text/plain": [
       "HBox(children=(FloatProgress(value=1.0, bar_style='info', layout=Layout(width='20px'), max=1.0), HTML(value=''…"
      ]
     },
     "metadata": {},
     "output_type": "display_data"
    },
    {
     "name": "stdout",
     "output_type": "stream",
     "text": [
      "train loss in 01epoch  /    0iter:    0.70920992\n",
      "train loss in 01epoch  /  100iter:    0.71393511\n",
      "train loss in 01epoch  /  200iter:    0.70716161\n",
      "train loss in 01epoch  /  300iter:    0.70443006\n",
      "train loss in 01epoch  /  400iter:    0.70049575\n",
      "train loss in 01epoch  /  500iter:    0.69877072\n",
      "train loss in 01epoch  /  600iter:    0.69675661\n",
      "train loss in 01epoch  /  700iter:    0.69471446\n",
      "train loss in 01epoch  /  800iter:    0.69481793\n",
      "train loss in 01epoch  /  900iter:    0.69484142\n",
      "train loss in 01epoch  / 1000iter:    0.69321792\n",
      "train loss in 01epoch  / 1100iter:    0.69369678\n",
      "train loss in 01epoch  / 1200iter:    0.69343167\n",
      "\n",
      "train 1epoch loss(1251iteration):    0.69287003\n"
     ]
    },
    {
     "data": {
      "application/vnd.jupyter.widget-view+json": {
       "model_id": "e25c3a60dfca4798b6f1a2c2db4cbad8",
       "version_major": 2,
       "version_minor": 0
      },
      "text/plain": [
       "HBox(children=(FloatProgress(value=1.0, bar_style='info', layout=Layout(width='20px'), max=1.0), HTML(value=''…"
      ]
     },
     "metadata": {},
     "output_type": "display_data"
    },
    {
     "name": "stdout",
     "output_type": "stream",
     "text": [
      "train loss in 02epoch  /    0iter:    0.6727227 \n",
      "train loss in 02epoch  /  100iter:    0.68977379\n",
      "train loss in 02epoch  /  200iter:    0.68882628\n",
      "train loss in 02epoch  /  300iter:    0.68930498\n",
      "train loss in 02epoch  /  400iter:    0.6866619 \n",
      "train loss in 02epoch  /  500iter:    0.68554328\n",
      "train loss in 02epoch  /  600iter:    0.68395945\n",
      "train loss in 02epoch  /  700iter:    0.68207069\n",
      "train loss in 02epoch  /  800iter:    0.68231361\n",
      "train loss in 02epoch  /  900iter:    0.68261587\n",
      "train loss in 02epoch  / 1000iter:    0.68129607\n",
      "train loss in 02epoch  / 1100iter:    0.68204127\n",
      "train loss in 02epoch  / 1200iter:    0.68200697\n",
      "\n",
      "train 2epoch loss(1251iteration):     0.6815725\n"
     ]
    },
    {
     "data": {
      "application/vnd.jupyter.widget-view+json": {
       "model_id": "aad911c6a7a04f5f8a171d868263d40a",
       "version_major": 2,
       "version_minor": 0
      },
      "text/plain": [
       "HBox(children=(FloatProgress(value=1.0, bar_style='info', layout=Layout(width='20px'), max=1.0), HTML(value=''…"
      ]
     },
     "metadata": {},
     "output_type": "display_data"
    },
    {
     "name": "stdout",
     "output_type": "stream",
     "text": [
      "train loss in 03epoch  /    0iter:    0.65921414\n",
      "train loss in 03epoch  /  100iter:    0.68252663\n",
      "train loss in 03epoch  /  200iter:    0.68238483\n",
      "train loss in 03epoch  /  300iter:    0.68263729\n",
      "train loss in 03epoch  /  400iter:    0.67997336\n",
      "train loss in 03epoch  /  500iter:    0.67913608\n",
      "train loss in 03epoch  /  600iter:    0.67780209\n",
      "train loss in 03epoch  /  700iter:    0.6760731 \n",
      "train loss in 03epoch  /  800iter:    0.67655976\n",
      "train loss in 03epoch  /  900iter:    0.67705625\n",
      "train loss in 03epoch  / 1000iter:    0.67577872\n",
      "train loss in 03epoch  / 1100iter:    0.67667834\n",
      "train loss in 03epoch  / 1200iter:    0.67674577\n",
      "\n",
      "train 3epoch loss(1251iteration):    0.67634858\n"
     ]
    },
    {
     "data": {
      "application/vnd.jupyter.widget-view+json": {
       "model_id": "8b75b1db5aaa4902b253e95ad98dd301",
       "version_major": 2,
       "version_minor": 0
      },
      "text/plain": [
       "HBox(children=(FloatProgress(value=1.0, bar_style='info', layout=Layout(width='20px'), max=1.0), HTML(value=''…"
      ]
     },
     "metadata": {},
     "output_type": "display_data"
    },
    {
     "name": "stdout",
     "output_type": "stream",
     "text": [
      "train loss in 04epoch  /    0iter:    0.64770871\n",
      "train loss in 04epoch  /  100iter:    0.68082815\n",
      "train loss in 04epoch  /  200iter:    0.68015338\n",
      "train loss in 04epoch  /  300iter:    0.68024763\n",
      "train loss in 04epoch  /  400iter:    0.67748833\n",
      "train loss in 04epoch  /  500iter:    0.67666279\n",
      "train loss in 04epoch  /  600iter:    0.67521772\n",
      "train loss in 04epoch  /  700iter:    0.6735155 \n",
      "train loss in 04epoch  /  800iter:    0.67398567\n",
      "train loss in 04epoch  /  900iter:    0.67451331\n",
      "train loss in 04epoch  / 1000iter:    0.67326329\n",
      "train loss in 04epoch  / 1100iter:    0.67421259\n",
      "train loss in 04epoch  / 1200iter:    0.67425571\n",
      "\n",
      "train 4epoch loss(1251iteration):    0.67387957\n"
     ]
    }
   ],
   "source": [
    "train_loss = []\n",
    "valid_loss = []\n",
    "for epoch in range(epoch_num):\n",
    "    epoch_trn_loss = 0\n",
    "    train_len = 0\n",
    "    net.train()\n",
    "    for iteration, (X_trn, Y_trn) in enumerate(tqdm(train_generator(train_df.iloc[:val_sta, :], batch_size))):\n",
    "        Y_trn[Y_trn == 1] = 0\n",
    "        Y_trn[Y_trn != 0] = 1\n",
    "        X = torch.tensor(X_trn, dtype = torch.float32).to(device)\n",
    "        Y = torch.tensor(Y_trn, dtype = torch.float32).to(device)\n",
    "        train_len += len(X)\n",
    "        \n",
    "        mask_pred = torch.sigmoid(net(X))\n",
    "        loss = criterion(mask_pred, Y)\n",
    "        optimizer.zero_grad()\n",
    "        loss.backward()\n",
    "        optimizer.step()\n",
    "        epoch_trn_loss += loss.item()\n",
    "        \n",
    "        if iteration % 100 == 0:\n",
    "            print(\"train loss in {:0>2}epoch  /{:>5}iter:    {:<10.8}\".format(epoch+1, iteration, epoch_trn_loss/(iteration+1)))\n",
    "        \n",
    "    train_loss.append(epoch_trn_loss/(iteration+1))\n",
    "    print(\"train {}epoch loss({}iteration):    {:10.8}\".format(epoch+1, iteration, train_loss[-1]))"
   ]
  },
  {
   "cell_type": "code",
   "execution_count": 49,
   "metadata": {},
   "outputs": [],
   "source": [
    "torch.save(net.state_dict(), 'w_unet_4_sig.pth')"
   ]
  },
  {
   "cell_type": "code",
   "execution_count": 21,
   "metadata": {},
   "outputs": [
    {
     "data": {
      "text/plain": [
       "<All keys matched successfully>"
      ]
     },
     "execution_count": 21,
     "metadata": {},
     "output_type": "execute_result"
    }
   ],
   "source": [
    "net.load_state_dict(torch.load('w_unet_4.pth'))"
   ]
  },
  {
   "cell_type": "code",
   "execution_count": null,
   "metadata": {},
   "outputs": [],
   "source": [
    "epoch_val_loss = 0\n",
    "val_len = 0\n",
    "net.eval()\n",
    "for iteration, (X_val, Y_val) in enumerate(tqdm(train_generator(train_df.iloc[val_sta:val_end, :], batch_size))):\n",
    "        Y_val[Y_val == 1] = 0\n",
    "        Y_val[Y_val != 0] = 1\n",
    "        X = torch.tensor(X_val, dtype=torch.float32).to(device)\n",
    "        Y = torch.tensor(Y_val, dtype=torch.float32).to(device)\n",
    "        val_len += len(X)\n",
    "        \n",
    "        #Y_flat = Y.view(-1)\n",
    "        \n",
    "        mask_pred = net(X)\n",
    "        #mask_prob = torch.softmax(mask_pred, dim=1)\n",
    "        #mask_prob_flat = mask_prob.view(-1)\n",
    "        loss = criterion(mask_pred, Y)\n",
    "        epoch_val_loss += loss.item()\n",
    "        \n",
    "        if iteration % 100 == 0:\n",
    "            print(\"valid loss / {:<10.8}\".format(epoch_val_loss/(iteration+1)))\n",
    "        "
   ]
  },
  {
   "cell_type": "markdown",
   "metadata": {},
   "source": [
    "# Thank you for watching!\n",
    "Please tell me when I make mistakes in program and English.  \n",
    "I hope this kernel will help.  \n",
    "If you think this kernel is useful, please upvote. If you do, I feel happy and get enough sleep.  "
   ]
  },
  {
   "cell_type": "code",
   "execution_count": null,
   "metadata": {},
   "outputs": [],
   "source": []
  },
  {
   "cell_type": "code",
   "execution_count": null,
   "metadata": {},
   "outputs": [],
   "source": [
    "def get_result(model):\n",
    "    for iteration, (X_trn, Y) in enumerate(tqdm(train_generator(train_df.iloc[:val_sta, :], batch_size))):\n",
    "        X = torch.tensor(X_trn, dtype=torch.float32).to(device)\n",
    "        break\n",
    "    i = np.random.randit(batch_size)\n",
    "    mask = Y[i]\n",
    "    img = X[i]\n",
    "    pred = torch.sigmoid(model(X)).detach().cpu().numpy()[i] > 0.5\n",
    "    masked_img = img.copy()\n",
    "    masked_pred = img.copy()\n",
    "    \n",
    "    for lay in range(3):\n",
    "        masked_img[lay] *= mask\n",
    "        masked_pred[lay] *= pred\n",
    "    images = [img, mask, masked_img, pred, mask_pred]\n",
    "    \n",
    "    fig, axes = plt.subplots(1, 5)\n",
    "    for ax, images in zip(axes.flatten(), images):\n",
    "        ax.imshow()\n",
    "        \n",
    "    fig.suptitle('Horizontally stacked subplots')\n",
    "    ax1.plot(x, y)\n",
    "    ax2.plot(x, -y)\n"
   ]
  },
  {
   "cell_type": "code",
   "execution_count": null,
   "metadata": {},
   "outputs": [],
   "source": [
    "net.eval()"
   ]
  },
  {
   "cell_type": "code",
   "execution_count": 51,
   "metadata": {},
   "outputs": [
    {
     "name": "stderr",
     "output_type": "stream",
     "text": [
      "<ipython-input-51-0221ca91921e>:1: TqdmDeprecationWarning: This function will be removed in tqdm==5.0.0\n",
      "Please use `tqdm.notebook.tqdm` instead of `tqdm.tqdm_notebook`\n",
      "  for iteration, (X_trn, Y_trn) in enumerate(tqdm(train_generator(train_df.iloc[:val_sta, :], batch_size))):\n"
     ]
    },
    {
     "data": {
      "application/vnd.jupyter.widget-view+json": {
       "model_id": "2ab819b9bfe247768acbc47d1bfcd174",
       "version_major": 2,
       "version_minor": 0
      },
      "text/plain": [
       "HBox(children=(FloatProgress(value=1.0, bar_style='info', layout=Layout(width='20px'), max=1.0), HTML(value=''…"
      ]
     },
     "metadata": {},
     "output_type": "display_data"
    },
    {
     "name": "stdout",
     "output_type": "stream",
     "text": [
      "\n"
     ]
    }
   ],
   "source": []
  },
  {
   "cell_type": "code",
   "execution_count": 52,
   "metadata": {},
   "outputs": [],
   "source": []
  },
  {
   "cell_type": "code",
   "execution_count": 53,
   "metadata": {},
   "outputs": [],
   "source": [
    "img = X[2]"
   ]
  },
  {
   "cell_type": "code",
   "execution_count": 63,
   "metadata": {},
   "outputs": [
    {
     "data": {
      "text/plain": [
       "(3, 224, 224)"
      ]
     },
     "execution_count": 63,
     "metadata": {},
     "output_type": "execute_result"
    }
   ],
   "source": [
    "img.shape"
   ]
  },
  {
   "cell_type": "code",
   "execution_count": 55,
   "metadata": {},
   "outputs": [
    {
     "data": {
      "text/plain": [
       "(224, 224)"
      ]
     },
     "execution_count": 55,
     "metadata": {},
     "output_type": "execute_result"
    }
   ],
   "source": [
    "mask.shape"
   ]
  },
  {
   "cell_type": "code",
   "execution_count": 56,
   "metadata": {},
   "outputs": [],
   "source": [
    "pred = torch.sigmoid(net(X)).detach().cpu().numpy()[2]"
   ]
  },
  {
   "cell_type": "code",
   "execution_count": 57,
   "metadata": {},
   "outputs": [],
   "source": [
    "pred = pred[0]"
   ]
  },
  {
   "cell_type": "code",
   "execution_count": 58,
   "metadata": {},
   "outputs": [],
   "source": [
    "img = img.detach().cpu().numpy()"
   ]
  },
  {
   "cell_type": "code",
   "execution_count": 59,
   "metadata": {},
   "outputs": [
    {
     "data": {
      "text/plain": [
       "<matplotlib.image.AxesImage at 0x7f86442c15b0>"
      ]
     },
     "execution_count": 59,
     "metadata": {},
     "output_type": "execute_result"
    },
    {
     "data": {
      "image/png": "[encoded data removed]",
      "text/plain": [
       "<Figure size 432x288 with 1 Axes>"
      ]
     },
     "metadata": {
      "needs_background": "light"
     },
     "output_type": "display_data"
    }
   ],
   "source": [
    "plt.imshow(pred)"
   ]
  },
  {
   "cell_type": "code",
   "execution_count": 66,
   "metadata": {},
   "outputs": [
    {
     "data": {
      "text/plain": [
       "array([False, False, False, False, False, False, False, False, False,\n",
       "       False, False, False, False, False, False, False, False, False,\n",
       "       False, False, False, False, False, False, False, False, False,\n",
       "       False, False, False, False, False, False, False, False, False,\n",
       "       False, False, False, False, False, False, False, False, False,\n",
       "       False, False, False, False, False, False, False, False, False,\n",
       "       False, False, False, False, False, False, False, False, False,\n",
       "       False, False, False, False, False, False, False,  True,  True,\n",
       "        True,  True,  True,  True,  True,  True,  True,  True,  True,\n",
       "        True,  True,  True,  True,  True,  True,  True,  True,  True,\n",
       "        True,  True,  True,  True,  True,  True,  True,  True,  True,\n",
       "        True,  True,  True,  True,  True,  True,  True,  True,  True,\n",
       "        True,  True,  True,  True,  True,  True,  True,  True,  True,\n",
       "        True,  True,  True,  True,  True,  True,  True,  True,  True,\n",
       "        True,  True,  True,  True,  True,  True,  True,  True,  True,\n",
       "        True,  True,  True,  True,  True,  True,  True,  True,  True,\n",
       "        True,  True,  True,  True,  True,  True,  True,  True,  True,\n",
       "        True,  True,  True,  True,  True,  True,  True, False, False,\n",
       "       False, False, False, False, False, False, False, False, False,\n",
       "       False, False, False, False, False, False, False, False, False,\n",
       "       False, False, False, False, False, False, False, False, False,\n",
       "       False, False, False, False, False, False, False, False, False,\n",
       "       False, False, False, False, False, False, False, False, False,\n",
       "       False, False, False, False, False, False, False, False, False,\n",
       "       False, False, False, False, False, False, False, False])"
      ]
     },
     "execution_count": 66,
     "metadata": {},
     "output_type": "execute_result"
    }
   ],
   "source": [
    "pred[125] > 0.5"
   ]
  },
  {
   "cell_type": "code",
   "execution_count": 60,
   "metadata": {},
   "outputs": [
    {
     "data": {
      "text/plain": [
       "1.0"
      ]
     },
     "execution_count": 60,
     "metadata": {},
     "output_type": "execute_result"
    }
   ],
   "source": [
    "pred.max()"
   ]
  },
  {
   "cell_type": "code",
   "execution_count": 61,
   "metadata": {},
   "outputs": [
    {
     "data": {
      "text/plain": [
       "<matplotlib.image.AxesImage at 0x7f86444539a0>"
      ]
     },
     "execution_count": 61,
     "metadata": {},
     "output_type": "execute_result"
    },
    {
     "data": {
      "image/png": "[encoded data removed]",
      "text/plain": [
       "<Figure size 432x288 with 1 Axes>"
      ]
     },
     "metadata": {
      "needs_background": "light"
     },
     "output_type": "display_data"
    }
   ],
   "source": [
    "plt.imshow(mask)"
   ]
  },
  {
   "cell_type": "code",
   "execution_count": null,
   "metadata": {},
   "outputs": [],
   "source": [
    "ma "
   ]
  }
 ],
 "metadata": {
  "kernelspec": {
   "display_name": "Python 3",
   "language": "python",
   "name": "python3"
  },
  "language_info": {
   "codemirror_mode": {
    "name": "ipython",
    "version": 3
   },
   "file_extension": ".py",
   "mimetype": "text/x-python",
   "name": "python",
   "nbconvert_exporter": "python",
   "pygments_lexer": "ipython3",
   "version": "3.8.2"
  }
 },
 "nbformat": 4,
 "nbformat_minor": 4
}
